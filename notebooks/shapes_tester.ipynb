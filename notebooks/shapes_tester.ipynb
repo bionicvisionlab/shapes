{
 "cells": [
  {
   "cell_type": "markdown",
   "id": "2d72a599-bf0b-49bc-ac24-4ab830970667",
   "metadata": {},
   "source": [
    "## PSO Fitting Testing"
   ]
  },
  {
   "cell_type": "code",
   "execution_count": 3,
   "id": "2eda486c-c09c-40ff-b838-e6f1802aa463",
   "metadata": {},
   "outputs": [],
   "source": [
    "from pulse2percept.models import BiphasicAxonMapModel, AxonMapModel\n",
    "from pulse2percept.model_selection import ParticleSwarmOptimizer\n",
    "from pulse2percept.implants import ArgusII\n",
    "import shapes\n",
    "\n",
    "import matplotlib.pyplot as plt\n",
    "import numpy as np"
   ]
  },
  {
   "cell_type": "markdown",
   "id": "695c8b97-b090-4942-9022-57f1749a78d0",
   "metadata": {},
   "source": [
    "#### Do 12-005 S2"
   ]
  },
  {
   "cell_type": "code",
   "execution_count": 4,
   "id": "e35d2418-c8e0-409d-acbc-bbaeb65a87ed",
   "metadata": {},
   "outputs": [],
   "source": [
    "s2 = shapes.subject_params['12-005']\n",
    "implant, model = shapes.model_from_params(s2)\n",
    "model.xystep=0.5\n",
    "estimator = shapes.BiphasicAxonMapEstimator(implant=implant, model=model)\n",
    "search_params = {\n",
    "    'a5' : (-10, 10),\n",
    "    'a6': (-10, 10),\n",
    "    'rho': (10, 300),\n",
    "    'axlambda': (10, 500)\n",
    "}\n",
    "# search_params = {\n",
    "#     'rho': (10, 300),\n",
    "#     'axlambda': (10, 500)\n",
    "# }\n",
    "opt = ParticleSwarmOptimizer(estimator, search_params, max_iter=100, swarm_size=40, has_loss_function=True)\n",
    "\n",
    "data = shapes.load_shapes(\"../data/shapes.h5\", subjects=['12-005'], stim_class='SingleElectrode')\n",
    "x = data[['amp1', 'freq', 'pdur', 'electrode1']]\n",
    "y = data['image']\n"
   ]
  },
  {
   "cell_type": "code",
   "execution_count": 5,
   "id": "a6ff6bb9-eacc-49ba-b33b-329eea7b7e50",
   "metadata": {},
   "outputs": [
    {
     "name": "stdout",
     "output_type": "stream",
     "text": [
      "rho=200.000000, axlambda=200.000000, a5=1.081200, a6=-0.353380, score=7.165556\n"
     ]
    },
    {
     "data": {
      "text/plain": [
       "7.165556445500585"
      ]
     },
     "execution_count": 5,
     "metadata": {},
     "output_type": "execute_result"
    }
   ],
   "source": [
    "estimator.score(x, y)"
   ]
  },
  {
   "cell_type": "code",
   "execution_count": null,
   "id": "2d97e4e7-7212-435b-93b4-815655de0885",
   "metadata": {
    "tags": []
   },
   "outputs": [
    {
     "name": "stdout",
     "output_type": "stream",
     "text": [
      "rho=67.953196, axlambda=270.961354, a5=0.299952, a6=-3.436341, score=4.498067\n",
      "rho=148.781611, axlambda=356.611679, a5=5.126375, a6=-3.559404, score=591.276848\n",
      "rho=98.265550, axlambda=197.117046, a5=-1.549681, a6=9.939638, score=77.870495\n",
      "rho=122.923078, axlambda=237.723255, a5=-4.503130, a6=2.516829, score=4.574243\n",
      "rho=273.596978, axlambda=471.310577, a5=-7.039471, a6=8.136399, score=4.172788\n",
      "rho=233.601475, axlambda=52.027440, a5=1.420281, a6=3.509843, score=1975.303523\n",
      "rho=183.460964, axlambda=159.094904, a5=-0.565810, a6=4.978662, score=284.870172\n",
      "rho=181.554737, axlambda=239.577876, a5=8.716585, a6=6.478649, score=10770.557766\n"
     ]
    }
   ],
   "source": [
    "opt.fit(x, y)"
   ]
  },
  {
   "cell_type": "code",
   "execution_count": null,
   "id": "4ac92207-3ab5-4b96-9c2d-633e72d54d6d",
   "metadata": {},
   "outputs": [],
   "source": []
  }
 ],
 "metadata": {
  "kernelspec": {
   "display_name": "Python 3 (ipykernel)",
   "language": "python",
   "name": "python3"
  },
  "language_info": {
   "codemirror_mode": {
    "name": "ipython",
    "version": 3
   },
   "file_extension": ".py",
   "mimetype": "text/x-python",
   "name": "python",
   "nbconvert_exporter": "python",
   "pygments_lexer": "ipython3",
   "version": "3.8.10"
  }
 },
 "nbformat": 4,
 "nbformat_minor": 5
}
