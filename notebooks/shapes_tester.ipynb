{
 "cells": [
  {
   "cell_type": "markdown",
   "id": "2d72a599-bf0b-49bc-ac24-4ab830970667",
   "metadata": {},
   "source": [
    "## PSO Fitting Testing"
   ]
  },
  {
   "cell_type": "code",
   "execution_count": 3,
   "id": "2eda486c-c09c-40ff-b838-e6f1802aa463",
   "metadata": {},
   "outputs": [],
   "source": [
    "from pulse2percept.models import BiphasicAxonMapModel, AxonMapModel\n",
    "from pulse2percept.model_selection import ParticleSwarmOptimizer\n",
    "from pulse2percept.implants import ArgusII\n",
    "import shapes\n",
    "\n",
    "import matplotlib.pyplot as plt\n",
    "import numpy as np"
   ]
  },
  {
   "cell_type": "markdown",
   "id": "695c8b97-b090-4942-9022-57f1749a78d0",
   "metadata": {},
   "source": [
    "#### Do 12-005 S2"
   ]
  },
  {
   "cell_type": "code",
   "execution_count": 4,
   "id": "e35d2418-c8e0-409d-acbc-bbaeb65a87ed",
   "metadata": {},
   "outputs": [],
   "source": [
    "s2 = shapes.subject_params['12-005']\n",
    "implant, model = shapes.model_from_params(s2)\n",
    "model.xystep=0.5\n",
    "\n",
    "# CHANGING relative_weight will be VERY important\n",
    "estimator = shapes.BiphasicAxonMapEstimator(implant=implant, model=model)\n",
    "search_params = {\n",
    "    'a5' : (-10, 10),\n",
    "    'a6': (-10, 10),\n",
    "    'rho': (10, 300),\n",
    "    'axlambda': (10, 500)\n",
    "}\n",
    "# search_params = {\n",
    "#     'rho': (10, 300),\n",
    "#     'axlambda': (10, 500)\n",
    "# }\n",
    "opt = ParticleSwarmOptimizer(estimator, search_params, max_iter=100, swarm_size=40, has_loss_function=True)\n",
    "\n",
    "data = shapes.load_shapes(\"../data/shapes.h5\", subjects=['12-005'], stim_class='SingleElectrode')\n",
    "x = data[['amp1', 'freq', 'pdur', 'electrode1']]\n",
    "y = data['image']\n"
   ]
  },
  {
   "cell_type": "code",
   "execution_count": 5,
   "id": "a6ff6bb9-eacc-49ba-b33b-329eea7b7e50",
   "metadata": {},
   "outputs": [
    {
     "name": "stdout",
     "output_type": "stream",
     "text": [
      "rho=200.000000, axlambda=200.000000, a5=1.081200, a6=-0.353380, score=7.165556\n"
     ]
    },
    {
     "data": {
      "text/plain": [
       "7.165556445500585"
      ]
     },
     "execution_count": 5,
     "metadata": {},
     "output_type": "execute_result"
    }
   ],
   "source": [
    "estimator.score(x, y)"
   ]
  },
  {
   "cell_type": "code",
   "execution_count": null,
   "id": "2d97e4e7-7212-435b-93b4-815655de0885",
   "metadata": {
    "tags": []
   },
   "outputs": [
    {
     "name": "stdout",
     "output_type": "stream",
     "text": [
      "rho=67.953196, axlambda=270.961354, a5=0.299952, a6=-3.436341, score=4.498067\n",
      "rho=148.781611, axlambda=356.611679, a5=5.126375, a6=-3.559404, score=591.276848\n",
      "rho=98.265550, axlambda=197.117046, a5=-1.549681, a6=9.939638, score=77.870495\n",
      "rho=122.923078, axlambda=237.723255, a5=-4.503130, a6=2.516829, score=4.574243\n",
      "rho=273.596978, axlambda=471.310577, a5=-7.039471, a6=8.136399, score=4.172788\n",
      "rho=233.601475, axlambda=52.027440, a5=1.420281, a6=3.509843, score=1975.303523\n",
      "rho=183.460964, axlambda=159.094904, a5=-0.565810, a6=4.978662, score=284.870172\n",
      "rho=181.554737, axlambda=239.577876, a5=8.716585, a6=6.478649, score=10770.557766\n",
      "rho=83.656904, axlambda=33.233052, a5=-6.821534, a6=8.464923, score=5.373624\n",
      "rho=288.744111, axlambda=310.605236, a5=-0.726664, a6=9.473838, score=8131.852278\n",
      "rho=62.242725, axlambda=158.692307, a5=-2.252813, a6=-5.722888, score=4.852459\n",
      "rho=54.115035, axlambda=426.463435, a5=-1.424941, a6=-3.499058, score=4.220000\n",
      "rho=268.465357, axlambda=130.581442, a5=1.788831, a6=3.712507, score=4755.293958\n",
      "rho=167.132976, axlambda=314.739595, a5=9.989152, a6=5.671108, score=9239.623125\n",
      "rho=102.826398, axlambda=452.524856, a5=7.556398, a6=-9.991283, score=172.463659\n",
      "rho=94.646156, axlambda=338.393092, a5=-8.562663, a6=-3.686423, score=4.353654\n",
      "rho=162.465084, axlambda=350.144065, a5=6.693579, a6=0.755635, score=2838.706653\n",
      "rho=161.293717, axlambda=388.570655, a5=-3.573642, a6=6.998316, score=41.493619\n",
      "rho=107.906015, axlambda=338.885540, a5=-0.108367, a6=-6.278651, score=4.353313\n",
      "rho=227.322878, axlambda=297.170971, a5=-6.402700, a6=-1.835532, score=4.426205\n",
      "rho=55.817577, axlambda=336.895267, a5=-4.242647, a6=-8.484848, score=4.355492\n",
      "rho=289.650471, axlambda=263.951669, a5=0.955236, a6=6.007953, score=7704.275981\n",
      "rho=115.571767, axlambda=175.733454, a5=4.923546, a6=-6.954686, score=73.917504\n",
      "rho=181.672214, axlambda=314.226776, a5=2.303263, a6=6.267852, score=2412.030568\n",
      "rho=225.981468, axlambda=337.491782, a5=3.932994, a6=-2.055043, score=2016.987237\n",
      "rho=90.311714, axlambda=278.741645, a5=6.866551, a6=-0.210433, score=261.195893\n",
      "rho=240.637719, axlambda=127.117087, a5=-8.675912, a6=-5.075527, score=4.968603\n",
      "rho=64.436241, axlambda=356.592021, a5=1.935834, a6=2.870883, score=23.685961\n",
      "rho=51.138558, axlambda=82.843211, a5=-9.333881, a6=9.016914, score=5.088569\n",
      "rho=32.273429, axlambda=164.397917, a5=-0.012569, a6=-5.981565, score=4.835913\n",
      "rho=150.176363, axlambda=75.964454, a5=9.656267, a6=-8.809254, score=1367.636415\n",
      "rho=285.248934, axlambda=282.630107, a5=-5.557534, a6=-4.579719, score=4.459846\n",
      "rho=159.690234, axlambda=315.256492, a5=-0.019890, a6=6.748478, score=578.166395\n",
      "rho=121.774510, axlambda=278.821996, a5=-8.722128, a6=-4.607175, score=4.475507\n",
      "rho=227.346114, axlambda=256.848322, a5=8.763925, a6=5.042271, score=22073.810093\n",
      "rho=142.628142, axlambda=62.557264, a5=-2.178854, a6=4.825838, score=7.858958\n",
      "rho=56.275115, axlambda=265.544570, a5=8.227942, a6=-2.423871, score=44.488601\n",
      "rho=190.183824, axlambda=466.424469, a5=-2.998898, a6=0.236140, score=4.176261\n",
      "rho=52.610821, axlambda=377.718943, a5=7.390004, a6=-8.078645, score=17.003531\n",
      "rho=207.144597, axlambda=423.277859, a5=7.538204, a6=5.511813, score=13819.221534\n",
      "rho=10.000000, axlambda=420.461926, a5=-3.443744, a6=-7.736824, score=4.225690\n",
      "rho=115.546171, axlambda=312.146139, a5=-9.411822, a6=-3.609998, score=4.393438\n",
      "rho=158.273795, axlambda=17.264673, a5=0.644250, a6=6.557434, score=468.606164\n",
      "rho=231.597455, axlambda=373.801236, a5=-10.000000, a6=-5.692215, score=4.286069\n",
      "rho=300.000000, axlambda=329.168519, a5=-1.129800, a6=-1.397742, score=4.364029\n",
      "rho=107.170618, axlambda=10.000000, a5=-4.263172, a6=10.000000, score=6.790760\n",
      "rho=300.000000, axlambda=404.885659, a5=1.800083, a6=-4.467541, score=226.947338\n",
      "rho=120.178913, axlambda=401.790865, a5=-5.610928, a6=0.282530, score=4.249449\n",
      "rho=217.955608, axlambda=130.938261, a5=-10.000000, a6=3.966373, score=4.944044\n",
      "rho=148.330898, axlambda=500.000000, a5=5.651763, a6=1.761430, score=1933.129360\n",
      "rho=135.778798, axlambda=444.631692, a5=3.426392, a6=3.709699, score=881.675830\n",
      "rho=223.905731, axlambda=500.000000, a5=-10.000000, a6=5.089305, score=4.146625\n",
      "rho=139.317786, axlambda=386.370443, a5=3.224054, a6=9.347157, score=1881.670860\n",
      "rho=64.949976, axlambda=357.538078, a5=-1.885359, a6=10.000000, score=24.229066\n"
     ]
    }
   ],
   "source": [
    "opt.fit(x, y)"
   ]
  },
  {
   "cell_type": "code",
   "execution_count": null,
   "id": "4ac92207-3ab5-4b96-9c2d-633e72d54d6d",
   "metadata": {},
   "outputs": [],
   "source": []
  }
 ],
 "metadata": {
  "kernelspec": {
   "display_name": "Python 3 (ipykernel)",
   "language": "python",
   "name": "python3"
  },
  "language_info": {
   "codemirror_mode": {
    "name": "ipython",
    "version": 3
   },
   "file_extension": ".py",
   "mimetype": "text/x-python",
   "name": "python",
   "nbconvert_exporter": "python",
   "pygments_lexer": "ipython3",
   "version": "3.8.10"
  }
 },
 "nbformat": 4,
 "nbformat_minor": 5
}
